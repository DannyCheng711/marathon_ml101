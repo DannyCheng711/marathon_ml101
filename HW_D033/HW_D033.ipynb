{
 "cells": [
  {
   "cell_type": "markdown",
   "metadata": {},
   "source": [
    "## 練習時間"
   ]
  },
  {
   "cell_type": "markdown",
   "metadata": {},
   "source": [
    "請觀看李宏毅教授以神奇寶貝進化 CP 值預測的範例，解說何謂機器學習與過擬合。並回答以下問題"
   ]
  },
  {
   "cell_type": "markdown",
   "metadata": {},
   "source": [
    "[youtube](https://www.youtube.com/watch?v=fegAeph9UaA)"
   ]
  },
  {
   "cell_type": "markdown",
   "metadata": {},
   "source": [
    "### 1. 模型的泛化能力 (generalization) 是指什麼？ \n",
    "#### - error on testign data\n",
    "### 2. 分類問題與回歸問題分別可用的目標函數有哪些？\n",
    "#### - 分類問題： Cross-Entropy , Gini-index兩者的目的都計算一個分類集合裡面樣本的分類純度，亦即，如果分類集合中實際屬於該分類的樣本越多，Cross-Entropy, Gini-index 都會越小。\n",
    "#### - 回歸問題： MSE, RMSE, MAE，MSE或RMSE 都是計算各樣本預測值和實際值誤差的平方和，只是RMSE最後會將結果開根號，MAE 則是計算各樣本預測值和實際值誤差的絕對值和，亦即，如果預測越準確，MSE, RMSE, MAE的值都會越小。"
   ]
  },
  {
   "cell_type": "code",
   "execution_count": null,
   "metadata": {},
   "outputs": [],
   "source": []
  }
 ],
 "metadata": {
  "kernelspec": {
   "display_name": "Python 3",
   "language": "python",
   "name": "python3"
  },
  "language_info": {
   "codemirror_mode": {
    "name": "ipython",
    "version": 3
   },
   "file_extension": ".py",
   "mimetype": "text/x-python",
   "name": "python",
   "nbconvert_exporter": "python",
   "pygments_lexer": "ipython3",
   "version": "3.7.6"
  }
 },
 "nbformat": 4,
 "nbformat_minor": 2
}
