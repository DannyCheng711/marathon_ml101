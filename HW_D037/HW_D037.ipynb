{
 "cells": [
  {
   "cell_type": "markdown",
   "metadata": {},
   "source": [
    "## [作業重點]\n",
    "了解線性回歸的模型發展歷程，並了解優勢與劣勢，以及其使用情境"
   ]
  },
  {
   "cell_type": "markdown",
   "metadata": {},
   "source": [
    "## 作業"
   ]
  },
  {
   "cell_type": "markdown",
   "metadata": {},
   "source": [
    "請閱讀以下相關文獻，並回答以下問題\n",
    "\n",
    "[Linear Regression 詳細介紹](https://brohrer.mcknote.com/zh-Hant/how_machine_learning_works/how_linear_regression_works.html)\n",
    "\n",
    "[Logistics Regression 詳細介紹](https://medium.com/@yehjames/%E8%B3%87%E6%96%99%E5%88%86%E6%9E%90-%E6%A9%9F%E5%99%A8%E5%AD%B8%E7%BF%92-%E7%AC%AC3-3%E8%AC%9B-%E7%B7%9A%E6%80%A7%E5%88%86%E9%A1%9E-%E9%82%8F%E8%BC%AF%E6%96%AF%E5%9B%9E%E6%AD%B8-logistic-regression-%E4%BB%8B%E7%B4%B9-a1a5f47017e5)\n"
   ]
  },
  {
   "cell_type": "markdown",
   "metadata": {},
   "source": [
    "1. 線性回歸模型能夠準確預測非線性關係的資料集嗎?\n",
    "2. 回歸模型是否對資料分布有基本假設?\n"
   ]
  },
  {
   "cell_type": "markdown",
   "metadata": {},
   "source": [
    "* 不行，若資料集為非線性，須對x做一些非線性轉換，如：次方項、開根號\n",
    "* 有   \n",
    "    * 線性性 & 可加性，假設 dependent var 為 Y，independent var 為 X1，X2，回歸模型為 Y=b+a1X1+a2X2+ε。\n",
    "        * 線性性：X1每變動一單位，Y相應變動一單位。\n",
    "        * 可加性：independent var 之間互相獨立且對 Y 的影響效果可用相加表示。\n",
    "    * 誤差項（ε ) 互相獨立，若不滿足，模型則有自相關性（Autocorrelation），如時間序列模型，independent var 之間有相關性，造成誤差項彼此間有相關性。可透過觀察 Durbin-Watson Statistic 判斷是否有自相關性。\n",
    "    * 自變量（X1，X2）之間互相獨立，若不滿足，模型則有多重共線性（Multicollinearity）。可考慮使用LASSO回歸或Ridge回歸，最小化係數的絕對值和或平方和。\n",
    "    * 誤差項（ε ) 應為常数。若滿足，模型具有同方差性（Homoskedasticity），若不滿足，则為異方差性（Heteroskedasticity）。即隨Y^的變化，誤差項有規律地變大或變小。須對y做一些非線性轉換，如：次方項、開根號。\n",
    "    * 誤差項（ε ) 應為常態分布。"
   ]
  },
  {
   "cell_type": "code",
   "execution_count": null,
   "metadata": {},
   "outputs": [],
   "source": []
  }
 ],
 "metadata": {
  "kernelspec": {
   "display_name": "Python 3",
   "language": "python",
   "name": "python3"
  },
  "language_info": {
   "codemirror_mode": {
    "name": "ipython",
    "version": 3
   },
   "file_extension": ".py",
   "mimetype": "text/x-python",
   "name": "python",
   "nbconvert_exporter": "python",
   "pygments_lexer": "ipython3",
   "version": "3.7.6"
  }
 },
 "nbformat": 4,
 "nbformat_minor": 2
}
