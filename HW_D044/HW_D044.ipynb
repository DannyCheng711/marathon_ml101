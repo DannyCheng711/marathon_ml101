{
 "cells": [
  {
   "cell_type": "markdown",
   "metadata": {},
   "source": [
    "## [作業重點]\n",
    "確保你了解隨機森林模型中每個超參數的意義，並觀察調整超參數對結果的影響"
   ]
  },
  {
   "cell_type": "markdown",
   "metadata": {},
   "source": [
    "## 作業\n",
    "\n",
    "1. 試著調整 RandomForestClassifier(...) 中的參數，並觀察是否會改變結果？\n",
    "2. 改用其他資料集 (boston, wine)，並與回歸模型與決策樹的結果進行比較"
   ]
  },
  {
   "cell_type": "code",
   "execution_count": 11,
   "metadata": {},
   "outputs": [],
   "source": [
    "from sklearn import datasets, metrics\n",
    "from sklearn.linear_model import LinearRegression\n",
    "from sklearn.ensemble import RandomForestClassifier, RandomForestRegressor\n",
    "from sklearn.model_selection import train_test_split"
   ]
  },
  {
   "cell_type": "code",
   "execution_count": 2,
   "metadata": {},
   "outputs": [],
   "source": [
    "# 讀取鳶尾花資料集\n",
    "iris = datasets.load_iris()\n",
    "\n",
    "# 切分訓練集/測試集\n",
    "x_train, x_test, y_train, y_test = train_test_split(iris.data, iris.target, test_size=0.25, random_state=4)\n",
    "\n",
    "# 建立模型 (使用 20 顆樹，每棵樹的最大深度為 4)\n",
    "clf = RandomForestClassifier(n_estimators=20, max_depth=4)\n",
    "clf_shw = RandomForestClassifier(n_estimators=2, max_depth=4)\n",
    "clf_deep = RandomForestClassifier(n_estimators=100)\n",
    "\n",
    "# 訓練模型\n",
    "clf.fit(x_train, y_train)\n",
    "clf_shw.fit(x_train, y_train)\n",
    "clf_deep.fit(x_train, y_train)\n",
    "\n",
    "# 預測測試集\n",
    "y_pred = clf.predict(x_test)\n",
    "y_pred_shw = clf_shw.predict(x_test)\n",
    "y_pred_deep = clf_deep.predict(x_test)"
   ]
  },
  {
   "cell_type": "code",
   "execution_count": 4,
   "metadata": {},
   "outputs": [
    {
     "name": "stdout",
     "output_type": "stream",
     "text": [
      "Accuracy:  0.9736842105263158\n",
      "Accuracy_shw:  0.9210526315789473\n",
      "Accuracy_deep:  0.9736842105263158\n"
     ]
    }
   ],
   "source": [
    "acc = metrics.accuracy_score(y_test, y_pred)\n",
    "acc_shw = metrics.accuracy_score(y_test, y_pred_shw)\n",
    "acc_deep = metrics.accuracy_score(y_test, y_pred_deep)\n",
    "print(\"Accuracy: \", acc)\n",
    "print(\"Accuracy_shw: \", acc_shw)\n",
    "print(\"Accuracy_deep: \", acc_deep)"
   ]
  },
  {
   "cell_type": "code",
   "execution_count": 5,
   "metadata": {},
   "outputs": [
    {
     "name": "stdout",
     "output_type": "stream",
     "text": [
      "['sepal length (cm)', 'sepal width (cm)', 'petal length (cm)', 'petal width (cm)']\n"
     ]
    }
   ],
   "source": [
    "print(iris.feature_names)"
   ]
  },
  {
   "cell_type": "code",
   "execution_count": 6,
   "metadata": {},
   "outputs": [
    {
     "name": "stdout",
     "output_type": "stream",
     "text": [
      "Feature importance:  [0.07370232 0.02106303 0.66254702 0.24268763]\n"
     ]
    }
   ],
   "source": [
    "print(\"Feature importance: \", clf.feature_importances_)"
   ]
  },
  {
   "cell_type": "markdown",
   "metadata": {},
   "source": [
    "#### 1. 試著調整 RandomForestClassifier(...) 中的參數，並觀察是否會改變結果？\n",
    "    如果減少樹的上限數或是樹的深度，模型準確度下降。但若是提升樹的上限數並不限制深度，準確度並未提升，20棵樹，深度為4的隨機森林已經能達到不錯的預測效果。"
   ]
  },
  {
   "cell_type": "code",
   "execution_count": 17,
   "metadata": {},
   "outputs": [],
   "source": [
    "# 讀取boston資料集\n",
    "boston = datasets.load_boston()\n",
    "\n",
    "# 切分訓練集/測試集\n",
    "x_train, x_test, y_train, y_test = train_test_split(boston.data, boston.target, test_size=0.25, random_state=4)\n",
    "\n",
    "# 建立模型 \n",
    "rf_boston = RandomForestRegressor()\n",
    "lr_boston = LinearRegression()\n",
    "\n",
    "\n",
    "# 訓練模型\n",
    "rf_boston.fit(x_train, y_train)\n",
    "lr_boston.fit(x_train, y_train)\n",
    "\n",
    "# 預測測試集\n",
    "y_pred_rf = rf_boston.predict(x_test)\n",
    "y_pred_lr = lr_boston.predict(x_test)"
   ]
  },
  {
   "cell_type": "code",
   "execution_count": 18,
   "metadata": {},
   "outputs": [
    {
     "name": "stdout",
     "output_type": "stream",
     "text": [
      "MSE_rf:  14.2250018503937\n",
      "MSE_lr:  26.95142562423582\n"
     ]
    }
   ],
   "source": [
    "# MSE \n",
    "MSE_rf = metrics.mean_squared_error(y_test, y_pred_clf)\n",
    "MSE_lr = metrics.mean_squared_error(y_test, y_pred_lr)\n",
    "print(\"MSE_rf: \", MSE_rf)\n",
    "print(\"MSE_lr: \", MSE_lr)"
   ]
  },
  {
   "cell_type": "markdown",
   "metadata": {},
   "source": [
    "#### 2. 改用其他資料集 (boston, wine)，並與回歸模型與決策樹的結果進行比較\n",
    "    決策樹的預測效果，較線性回歸來的好。\n"
   ]
  }
 ],
 "metadata": {
  "kernelspec": {
   "display_name": "Python 3",
   "language": "python",
   "name": "python3"
  },
  "language_info": {
   "codemirror_mode": {
    "name": "ipython",
    "version": 3
   },
   "file_extension": ".py",
   "mimetype": "text/x-python",
   "name": "python",
   "nbconvert_exporter": "python",
   "pygments_lexer": "ipython3",
   "version": "3.7.6"
  }
 },
 "nbformat": 4,
 "nbformat_minor": 2
}
